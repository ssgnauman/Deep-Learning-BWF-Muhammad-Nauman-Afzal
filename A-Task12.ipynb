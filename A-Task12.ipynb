{
 "cells": [
  {
   "cell_type": "markdown",
   "id": "d0c79f82",
   "metadata": {},
   "source": [
    "# Topics: Broadcasting in Numpy Array\n"
   ]
  },
  {
   "cell_type": "code",
   "execution_count": 1,
   "id": "fdfb1612",
   "metadata": {},
   "outputs": [],
   "source": [
    "import numpy as np"
   ]
  },
  {
   "cell_type": "code",
   "execution_count": 2,
   "id": "217f05df",
   "metadata": {},
   "outputs": [
    {
     "name": "stdout",
     "output_type": "stream",
     "text": [
      "[0 1 2 3 4]\n"
     ]
    },
    {
     "data": {
      "text/plain": [
       "array([ 0,  5, 10, 15, 20])"
      ]
     },
     "execution_count": 2,
     "metadata": {},
     "output_type": "execute_result"
    }
   ],
   "source": [
    "'''Combining Scalar value with array'''\n",
    "arr = np.arange(5)\n",
    "print(arr)\n",
    "arr = arr*5\n",
    "arr"
   ]
  },
  {
   "cell_type": "code",
   "execution_count": 3,
   "id": "9491e9f7",
   "metadata": {},
   "outputs": [
    {
     "name": "stdout",
     "output_type": "stream",
     "text": [
      "[[ 0.22928142 -0.03137562  0.29037807]\n",
      " [-2.74359589  1.75694481 -1.56605989]\n",
      " [-2.25400337  0.2409645  -0.69023946]\n",
      " [ 0.38833506 -1.56962978  0.55561986]]\n",
      "\n",
      "[[ 1.32427712 -0.1306016   0.64295343]\n",
      " [-1.64860019  1.65771883 -1.21348454]\n",
      " [-1.15900768  0.14173852 -0.33766411]\n",
      " [ 1.48333076 -1.66885575  0.90819522]]\n",
      "\n",
      "[ 0.00000000e+00  5.55111512e-17 -5.55111512e-17]\n"
     ]
    }
   ],
   "source": [
    "'''De-meaning the array'''\n",
    "\n",
    "arr = np.random.randn(4,3)\n",
    "print(arr)\n",
    "print()\n",
    "arr.mean(0)  # Mean along axis 0\n",
    "demean = arr - arr.mean(0)\n",
    "print(demean)\n",
    "print()\n",
    "\n",
    "print(demean.mean(0))"
   ]
  },
  {
   "cell_type": "code",
   "execution_count": 5,
   "id": "391d64c4",
   "metadata": {},
   "outputs": [
    {
     "name": "stdout",
     "output_type": "stream",
     "text": [
      "[[  1   2   3]\n",
      " [ 13  14  15]\n",
      " [106 107 108]]\n"
     ]
    }
   ],
   "source": [
    "'''Example 2'''\n",
    "\n",
    "x = np.array([[0, 1, 2],\n",
    "              [3, 4, 5],\n",
    "              [6, 7, 8]])\n",
    "y = np.array([1, 10, 100]).reshape(3, 1)\n",
    "\n",
    "print(x + y)"
   ]
  },
  {
   "cell_type": "code",
   "execution_count": 6,
   "id": "ef991cec",
   "metadata": {},
   "outputs": [
    {
     "name": "stdout",
     "output_type": "stream",
     "text": [
      "[[[  1  11 102]\n",
      "  [  4  14 105]\n",
      "  [  7  17 108]]\n",
      "\n",
      " [[ 10  20 111]\n",
      "  [ 13  23 114]\n",
      "  [ 16  26 117]]]\n"
     ]
    }
   ],
   "source": [
    "'''Example 3'''\n",
    "\n",
    "x = np.array([[[0, 1, 2],\n",
    "               [3, 4, 5],\n",
    "               [6, 7, 8]],\n",
    "              [[9, 10, 11],\n",
    "               [12, 13, 14],\n",
    "               [15, 16, 17]]])  # shape (2, 3, 3)\n",
    "y = np.array([1, 10, 100])     # shape       (3,)\n",
    "\n",
    "print(x + y)"
   ]
  },
  {
   "cell_type": "code",
   "execution_count": 7,
   "id": "fd3641f7",
   "metadata": {},
   "outputs": [
    {
     "data": {
      "text/plain": [
       "array([[5., 5., 5.],\n",
       "       [5., 5., 5.],\n",
       "       [5., 5., 5.],\n",
       "       [5., 5., 5.]])"
      ]
     },
     "execution_count": 7,
     "metadata": {},
     "output_type": "execute_result"
    }
   ],
   "source": [
    "arr = np.zeros((4,3))\n",
    "\n",
    "arr[:] = 5\n",
    "\n",
    "arr"
   ]
  },
  {
   "cell_type": "code",
   "execution_count": null,
   "id": "66d5666c",
   "metadata": {},
   "outputs": [],
   "source": [
    "# #####################END"
   ]
  }
 ],
 "metadata": {
  "kernelspec": {
   "display_name": "Python 3 (ipykernel)",
   "language": "python",
   "name": "python3"
  },
  "language_info": {
   "codemirror_mode": {
    "name": "ipython",
    "version": 3
   },
   "file_extension": ".py",
   "mimetype": "text/x-python",
   "name": "python",
   "nbconvert_exporter": "python",
   "pygments_lexer": "ipython3",
   "version": "3.10.9"
  }
 },
 "nbformat": 4,
 "nbformat_minor": 5
}
