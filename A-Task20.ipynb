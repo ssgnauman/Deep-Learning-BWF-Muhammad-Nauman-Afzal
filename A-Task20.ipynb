{
 "cells": [
  {
   "cell_type": "markdown",
   "id": "0ba83709",
   "metadata": {},
   "source": [
    "# 🔴 Task 20\n",
    "\n",
    "Topics: Introduction to Keras, Example Projects on Classification and Regression\n",
    "\n",
    "Resource: https://drive.google.com/file/d/1i9dPxM_1M4HYN5bYxFcuklC1vM0GrOCq/view?usp=share_link\n",
    "\n",
    "There are sample project with each part/line explanation for your better understanding are provided in the resource. Try to implement them for practice and learn how things are working."
   ]
  },
  {
   "cell_type": "markdown",
   "id": "06ea3fdc",
   "metadata": {},
   "source": [
    "# Keras"
   ]
  },
  {
   "cell_type": "code",
   "execution_count": 1,
   "id": "25cd8ad1",
   "metadata": {},
   "outputs": [],
   "source": [
    "# Keras is a high-level API for building deep learning models.\n",
    "#It has gained favor for its ease of use and syntactic simplicity \n",
    "#facilitating fast development. "
   ]
  },
  {
   "cell_type": "markdown",
   "id": "8c190c00",
   "metadata": {},
   "source": [
    "# Regression Models with Keras"
   ]
  },
  {
   "cell_type": "code",
   "execution_count": 2,
   "id": "b101f058",
   "metadata": {},
   "outputs": [],
   "source": [
    "import pandas as pd\n",
    "import numpy as np\n",
    "\n"
   ]
  },
  {
   "cell_type": "code",
   "execution_count": 3,
   "id": "10aecd40",
   "metadata": {},
   "outputs": [
    {
     "data": {
      "text/html": [
       "<div>\n",
       "<style scoped>\n",
       "    .dataframe tbody tr th:only-of-type {\n",
       "        vertical-align: middle;\n",
       "    }\n",
       "\n",
       "    .dataframe tbody tr th {\n",
       "        vertical-align: top;\n",
       "    }\n",
       "\n",
       "    .dataframe thead th {\n",
       "        text-align: right;\n",
       "    }\n",
       "</style>\n",
       "<table border=\"1\" class=\"dataframe\">\n",
       "  <thead>\n",
       "    <tr style=\"text-align: right;\">\n",
       "      <th></th>\n",
       "      <th>Cement</th>\n",
       "      <th>Blast Furnace Slag</th>\n",
       "      <th>Fly Ash</th>\n",
       "      <th>Water</th>\n",
       "      <th>Superplasticizer</th>\n",
       "      <th>Coarse Aggregate</th>\n",
       "      <th>Fine Aggregate</th>\n",
       "      <th>Age</th>\n",
       "      <th>Strength</th>\n",
       "    </tr>\n",
       "  </thead>\n",
       "  <tbody>\n",
       "    <tr>\n",
       "      <th>0</th>\n",
       "      <td>540.0</td>\n",
       "      <td>0.0</td>\n",
       "      <td>0.0</td>\n",
       "      <td>162.0</td>\n",
       "      <td>2.5</td>\n",
       "      <td>1040.0</td>\n",
       "      <td>676.0</td>\n",
       "      <td>28</td>\n",
       "      <td>79.99</td>\n",
       "    </tr>\n",
       "    <tr>\n",
       "      <th>1</th>\n",
       "      <td>540.0</td>\n",
       "      <td>0.0</td>\n",
       "      <td>0.0</td>\n",
       "      <td>162.0</td>\n",
       "      <td>2.5</td>\n",
       "      <td>1055.0</td>\n",
       "      <td>676.0</td>\n",
       "      <td>28</td>\n",
       "      <td>61.89</td>\n",
       "    </tr>\n",
       "    <tr>\n",
       "      <th>2</th>\n",
       "      <td>332.5</td>\n",
       "      <td>142.5</td>\n",
       "      <td>0.0</td>\n",
       "      <td>228.0</td>\n",
       "      <td>0.0</td>\n",
       "      <td>932.0</td>\n",
       "      <td>594.0</td>\n",
       "      <td>270</td>\n",
       "      <td>40.27</td>\n",
       "    </tr>\n",
       "    <tr>\n",
       "      <th>3</th>\n",
       "      <td>332.5</td>\n",
       "      <td>142.5</td>\n",
       "      <td>0.0</td>\n",
       "      <td>228.0</td>\n",
       "      <td>0.0</td>\n",
       "      <td>932.0</td>\n",
       "      <td>594.0</td>\n",
       "      <td>365</td>\n",
       "      <td>41.05</td>\n",
       "    </tr>\n",
       "    <tr>\n",
       "      <th>4</th>\n",
       "      <td>198.6</td>\n",
       "      <td>132.4</td>\n",
       "      <td>0.0</td>\n",
       "      <td>192.0</td>\n",
       "      <td>0.0</td>\n",
       "      <td>978.4</td>\n",
       "      <td>825.5</td>\n",
       "      <td>360</td>\n",
       "      <td>44.30</td>\n",
       "    </tr>\n",
       "  </tbody>\n",
       "</table>\n",
       "</div>"
      ],
      "text/plain": [
       "   Cement  Blast Furnace Slag  Fly Ash  Water  Superplasticizer  \\\n",
       "0   540.0                 0.0      0.0  162.0               2.5   \n",
       "1   540.0                 0.0      0.0  162.0               2.5   \n",
       "2   332.5               142.5      0.0  228.0               0.0   \n",
       "3   332.5               142.5      0.0  228.0               0.0   \n",
       "4   198.6               132.4      0.0  192.0               0.0   \n",
       "\n",
       "   Coarse Aggregate  Fine Aggregate  Age  Strength  \n",
       "0            1040.0           676.0   28     79.99  \n",
       "1            1055.0           676.0   28     61.89  \n",
       "2             932.0           594.0  270     40.27  \n",
       "3             932.0           594.0  365     41.05  \n",
       "4             978.4           825.5  360     44.30  "
      ]
     },
     "execution_count": 3,
     "metadata": {},
     "output_type": "execute_result"
    }
   ],
   "source": [
    "concrete_data = pd.read_csv('https://s3-api.us-geo.objectstorage.softlayer.net/cf-courses-data/CognitiveClass/DL0101EN/labs/data/concrete_data.csv')\n",
    "concrete_data.head()"
   ]
  },
  {
   "cell_type": "code",
   "execution_count": 4,
   "id": "173b4ba6",
   "metadata": {},
   "outputs": [
    {
     "data": {
      "text/plain": [
       "(1030, 9)"
      ]
     },
     "execution_count": 4,
     "metadata": {},
     "output_type": "execute_result"
    }
   ],
   "source": [
    "concrete_data.shape"
   ]
  },
  {
   "cell_type": "code",
   "execution_count": 5,
   "id": "1ee3c93a",
   "metadata": {},
   "outputs": [
    {
     "data": {
      "text/html": [
       "<div>\n",
       "<style scoped>\n",
       "    .dataframe tbody tr th:only-of-type {\n",
       "        vertical-align: middle;\n",
       "    }\n",
       "\n",
       "    .dataframe tbody tr th {\n",
       "        vertical-align: top;\n",
       "    }\n",
       "\n",
       "    .dataframe thead th {\n",
       "        text-align: right;\n",
       "    }\n",
       "</style>\n",
       "<table border=\"1\" class=\"dataframe\">\n",
       "  <thead>\n",
       "    <tr style=\"text-align: right;\">\n",
       "      <th></th>\n",
       "      <th>Cement</th>\n",
       "      <th>Blast Furnace Slag</th>\n",
       "      <th>Fly Ash</th>\n",
       "      <th>Water</th>\n",
       "      <th>Superplasticizer</th>\n",
       "      <th>Coarse Aggregate</th>\n",
       "      <th>Fine Aggregate</th>\n",
       "      <th>Age</th>\n",
       "      <th>Strength</th>\n",
       "    </tr>\n",
       "  </thead>\n",
       "  <tbody>\n",
       "    <tr>\n",
       "      <th>count</th>\n",
       "      <td>1030.000000</td>\n",
       "      <td>1030.000000</td>\n",
       "      <td>1030.000000</td>\n",
       "      <td>1030.000000</td>\n",
       "      <td>1030.000000</td>\n",
       "      <td>1030.000000</td>\n",
       "      <td>1030.000000</td>\n",
       "      <td>1030.000000</td>\n",
       "      <td>1030.000000</td>\n",
       "    </tr>\n",
       "    <tr>\n",
       "      <th>mean</th>\n",
       "      <td>281.167864</td>\n",
       "      <td>73.895825</td>\n",
       "      <td>54.188350</td>\n",
       "      <td>181.567282</td>\n",
       "      <td>6.204660</td>\n",
       "      <td>972.918932</td>\n",
       "      <td>773.580485</td>\n",
       "      <td>45.662136</td>\n",
       "      <td>35.817961</td>\n",
       "    </tr>\n",
       "    <tr>\n",
       "      <th>std</th>\n",
       "      <td>104.506364</td>\n",
       "      <td>86.279342</td>\n",
       "      <td>63.997004</td>\n",
       "      <td>21.354219</td>\n",
       "      <td>5.973841</td>\n",
       "      <td>77.753954</td>\n",
       "      <td>80.175980</td>\n",
       "      <td>63.169912</td>\n",
       "      <td>16.705742</td>\n",
       "    </tr>\n",
       "    <tr>\n",
       "      <th>min</th>\n",
       "      <td>102.000000</td>\n",
       "      <td>0.000000</td>\n",
       "      <td>0.000000</td>\n",
       "      <td>121.800000</td>\n",
       "      <td>0.000000</td>\n",
       "      <td>801.000000</td>\n",
       "      <td>594.000000</td>\n",
       "      <td>1.000000</td>\n",
       "      <td>2.330000</td>\n",
       "    </tr>\n",
       "    <tr>\n",
       "      <th>25%</th>\n",
       "      <td>192.375000</td>\n",
       "      <td>0.000000</td>\n",
       "      <td>0.000000</td>\n",
       "      <td>164.900000</td>\n",
       "      <td>0.000000</td>\n",
       "      <td>932.000000</td>\n",
       "      <td>730.950000</td>\n",
       "      <td>7.000000</td>\n",
       "      <td>23.710000</td>\n",
       "    </tr>\n",
       "    <tr>\n",
       "      <th>50%</th>\n",
       "      <td>272.900000</td>\n",
       "      <td>22.000000</td>\n",
       "      <td>0.000000</td>\n",
       "      <td>185.000000</td>\n",
       "      <td>6.400000</td>\n",
       "      <td>968.000000</td>\n",
       "      <td>779.500000</td>\n",
       "      <td>28.000000</td>\n",
       "      <td>34.445000</td>\n",
       "    </tr>\n",
       "    <tr>\n",
       "      <th>75%</th>\n",
       "      <td>350.000000</td>\n",
       "      <td>142.950000</td>\n",
       "      <td>118.300000</td>\n",
       "      <td>192.000000</td>\n",
       "      <td>10.200000</td>\n",
       "      <td>1029.400000</td>\n",
       "      <td>824.000000</td>\n",
       "      <td>56.000000</td>\n",
       "      <td>46.135000</td>\n",
       "    </tr>\n",
       "    <tr>\n",
       "      <th>max</th>\n",
       "      <td>540.000000</td>\n",
       "      <td>359.400000</td>\n",
       "      <td>200.100000</td>\n",
       "      <td>247.000000</td>\n",
       "      <td>32.200000</td>\n",
       "      <td>1145.000000</td>\n",
       "      <td>992.600000</td>\n",
       "      <td>365.000000</td>\n",
       "      <td>82.600000</td>\n",
       "    </tr>\n",
       "  </tbody>\n",
       "</table>\n",
       "</div>"
      ],
      "text/plain": [
       "            Cement  Blast Furnace Slag      Fly Ash        Water  \\\n",
       "count  1030.000000         1030.000000  1030.000000  1030.000000   \n",
       "mean    281.167864           73.895825    54.188350   181.567282   \n",
       "std     104.506364           86.279342    63.997004    21.354219   \n",
       "min     102.000000            0.000000     0.000000   121.800000   \n",
       "25%     192.375000            0.000000     0.000000   164.900000   \n",
       "50%     272.900000           22.000000     0.000000   185.000000   \n",
       "75%     350.000000          142.950000   118.300000   192.000000   \n",
       "max     540.000000          359.400000   200.100000   247.000000   \n",
       "\n",
       "       Superplasticizer  Coarse Aggregate  Fine Aggregate          Age  \\\n",
       "count       1030.000000       1030.000000     1030.000000  1030.000000   \n",
       "mean           6.204660        972.918932      773.580485    45.662136   \n",
       "std            5.973841         77.753954       80.175980    63.169912   \n",
       "min            0.000000        801.000000      594.000000     1.000000   \n",
       "25%            0.000000        932.000000      730.950000     7.000000   \n",
       "50%            6.400000        968.000000      779.500000    28.000000   \n",
       "75%           10.200000       1029.400000      824.000000    56.000000   \n",
       "max           32.200000       1145.000000      992.600000   365.000000   \n",
       "\n",
       "          Strength  \n",
       "count  1030.000000  \n",
       "mean     35.817961  \n",
       "std      16.705742  \n",
       "min       2.330000  \n",
       "25%      23.710000  \n",
       "50%      34.445000  \n",
       "75%      46.135000  \n",
       "max      82.600000  "
      ]
     },
     "execution_count": 5,
     "metadata": {},
     "output_type": "execute_result"
    }
   ],
   "source": [
    "concrete_data.describe()"
   ]
  },
  {
   "cell_type": "code",
   "execution_count": 6,
   "id": "c60e2edd",
   "metadata": {},
   "outputs": [
    {
     "data": {
      "text/plain": [
       "Cement                0\n",
       "Blast Furnace Slag    0\n",
       "Fly Ash               0\n",
       "Water                 0\n",
       "Superplasticizer      0\n",
       "Coarse Aggregate      0\n",
       "Fine Aggregate        0\n",
       "Age                   0\n",
       "Strength              0\n",
       "dtype: int64"
      ]
     },
     "execution_count": 6,
     "metadata": {},
     "output_type": "execute_result"
    }
   ],
   "source": [
    "concrete_data.isnull().sum()"
   ]
  },
  {
   "cell_type": "markdown",
   "id": "ad1e9540",
   "metadata": {},
   "source": [
    "# Split data into predictors and target\n"
   ]
  },
  {
   "cell_type": "code",
   "execution_count": 7,
   "id": "612527f3",
   "metadata": {},
   "outputs": [],
   "source": [
    "##The target variable in this problem is the concrete sample strength.\n",
    "# Therefore, our predictors will be all the other columns."
   ]
  },
  {
   "cell_type": "code",
   "execution_count": 8,
   "id": "44af09e0",
   "metadata": {},
   "outputs": [],
   "source": [
    "concrete_data_columns = concrete_data.columns\n",
    "\n",
    "predictors = concrete_data[concrete_data_columns[concrete_data_columns != 'Strength']] # all columns except Strength\n",
    "target = concrete_data['Strength'] # Strength column"
   ]
  },
  {
   "cell_type": "code",
   "execution_count": 9,
   "id": "adceff61",
   "metadata": {},
   "outputs": [
    {
     "data": {
      "text/html": [
       "<div>\n",
       "<style scoped>\n",
       "    .dataframe tbody tr th:only-of-type {\n",
       "        vertical-align: middle;\n",
       "    }\n",
       "\n",
       "    .dataframe tbody tr th {\n",
       "        vertical-align: top;\n",
       "    }\n",
       "\n",
       "    .dataframe thead th {\n",
       "        text-align: right;\n",
       "    }\n",
       "</style>\n",
       "<table border=\"1\" class=\"dataframe\">\n",
       "  <thead>\n",
       "    <tr style=\"text-align: right;\">\n",
       "      <th></th>\n",
       "      <th>Cement</th>\n",
       "      <th>Blast Furnace Slag</th>\n",
       "      <th>Fly Ash</th>\n",
       "      <th>Water</th>\n",
       "      <th>Superplasticizer</th>\n",
       "      <th>Coarse Aggregate</th>\n",
       "      <th>Fine Aggregate</th>\n",
       "      <th>Age</th>\n",
       "    </tr>\n",
       "  </thead>\n",
       "  <tbody>\n",
       "    <tr>\n",
       "      <th>0</th>\n",
       "      <td>540.0</td>\n",
       "      <td>0.0</td>\n",
       "      <td>0.0</td>\n",
       "      <td>162.0</td>\n",
       "      <td>2.5</td>\n",
       "      <td>1040.0</td>\n",
       "      <td>676.0</td>\n",
       "      <td>28</td>\n",
       "    </tr>\n",
       "    <tr>\n",
       "      <th>1</th>\n",
       "      <td>540.0</td>\n",
       "      <td>0.0</td>\n",
       "      <td>0.0</td>\n",
       "      <td>162.0</td>\n",
       "      <td>2.5</td>\n",
       "      <td>1055.0</td>\n",
       "      <td>676.0</td>\n",
       "      <td>28</td>\n",
       "    </tr>\n",
       "    <tr>\n",
       "      <th>2</th>\n",
       "      <td>332.5</td>\n",
       "      <td>142.5</td>\n",
       "      <td>0.0</td>\n",
       "      <td>228.0</td>\n",
       "      <td>0.0</td>\n",
       "      <td>932.0</td>\n",
       "      <td>594.0</td>\n",
       "      <td>270</td>\n",
       "    </tr>\n",
       "    <tr>\n",
       "      <th>3</th>\n",
       "      <td>332.5</td>\n",
       "      <td>142.5</td>\n",
       "      <td>0.0</td>\n",
       "      <td>228.0</td>\n",
       "      <td>0.0</td>\n",
       "      <td>932.0</td>\n",
       "      <td>594.0</td>\n",
       "      <td>365</td>\n",
       "    </tr>\n",
       "    <tr>\n",
       "      <th>4</th>\n",
       "      <td>198.6</td>\n",
       "      <td>132.4</td>\n",
       "      <td>0.0</td>\n",
       "      <td>192.0</td>\n",
       "      <td>0.0</td>\n",
       "      <td>978.4</td>\n",
       "      <td>825.5</td>\n",
       "      <td>360</td>\n",
       "    </tr>\n",
       "  </tbody>\n",
       "</table>\n",
       "</div>"
      ],
      "text/plain": [
       "   Cement  Blast Furnace Slag  Fly Ash  Water  Superplasticizer  \\\n",
       "0   540.0                 0.0      0.0  162.0               2.5   \n",
       "1   540.0                 0.0      0.0  162.0               2.5   \n",
       "2   332.5               142.5      0.0  228.0               0.0   \n",
       "3   332.5               142.5      0.0  228.0               0.0   \n",
       "4   198.6               132.4      0.0  192.0               0.0   \n",
       "\n",
       "   Coarse Aggregate  Fine Aggregate  Age  \n",
       "0            1040.0           676.0   28  \n",
       "1            1055.0           676.0   28  \n",
       "2             932.0           594.0  270  \n",
       "3             932.0           594.0  365  \n",
       "4             978.4           825.5  360  "
      ]
     },
     "execution_count": 9,
     "metadata": {},
     "output_type": "execute_result"
    }
   ],
   "source": [
    "predictors.head()"
   ]
  },
  {
   "cell_type": "code",
   "execution_count": 10,
   "id": "e7ab9993",
   "metadata": {},
   "outputs": [
    {
     "data": {
      "text/plain": [
       "0    79.99\n",
       "1    61.89\n",
       "2    40.27\n",
       "3    41.05\n",
       "4    44.30\n",
       "Name: Strength, dtype: float64"
      ]
     },
     "execution_count": 10,
     "metadata": {},
     "output_type": "execute_result"
    }
   ],
   "source": [
    "target.head()"
   ]
  },
  {
   "cell_type": "code",
   "execution_count": 11,
   "id": "41e0d1ad",
   "metadata": {},
   "outputs": [],
   "source": [
    "#Finally, the last step is to normalize the data by substracting \n",
    "# the mean and dividing by the standard deviation."
   ]
  },
  {
   "cell_type": "code",
   "execution_count": 12,
   "id": "359a4d97",
   "metadata": {},
   "outputs": [
    {
     "data": {
      "text/html": [
       "<div>\n",
       "<style scoped>\n",
       "    .dataframe tbody tr th:only-of-type {\n",
       "        vertical-align: middle;\n",
       "    }\n",
       "\n",
       "    .dataframe tbody tr th {\n",
       "        vertical-align: top;\n",
       "    }\n",
       "\n",
       "    .dataframe thead th {\n",
       "        text-align: right;\n",
       "    }\n",
       "</style>\n",
       "<table border=\"1\" class=\"dataframe\">\n",
       "  <thead>\n",
       "    <tr style=\"text-align: right;\">\n",
       "      <th></th>\n",
       "      <th>Cement</th>\n",
       "      <th>Blast Furnace Slag</th>\n",
       "      <th>Fly Ash</th>\n",
       "      <th>Water</th>\n",
       "      <th>Superplasticizer</th>\n",
       "      <th>Coarse Aggregate</th>\n",
       "      <th>Fine Aggregate</th>\n",
       "      <th>Age</th>\n",
       "    </tr>\n",
       "  </thead>\n",
       "  <tbody>\n",
       "    <tr>\n",
       "      <th>0</th>\n",
       "      <td>2.476712</td>\n",
       "      <td>-0.856472</td>\n",
       "      <td>-0.846733</td>\n",
       "      <td>-0.916319</td>\n",
       "      <td>-0.620147</td>\n",
       "      <td>0.862735</td>\n",
       "      <td>-1.217079</td>\n",
       "      <td>-0.279597</td>\n",
       "    </tr>\n",
       "    <tr>\n",
       "      <th>1</th>\n",
       "      <td>2.476712</td>\n",
       "      <td>-0.856472</td>\n",
       "      <td>-0.846733</td>\n",
       "      <td>-0.916319</td>\n",
       "      <td>-0.620147</td>\n",
       "      <td>1.055651</td>\n",
       "      <td>-1.217079</td>\n",
       "      <td>-0.279597</td>\n",
       "    </tr>\n",
       "    <tr>\n",
       "      <th>2</th>\n",
       "      <td>0.491187</td>\n",
       "      <td>0.795140</td>\n",
       "      <td>-0.846733</td>\n",
       "      <td>2.174405</td>\n",
       "      <td>-1.038638</td>\n",
       "      <td>-0.526262</td>\n",
       "      <td>-2.239829</td>\n",
       "      <td>3.551340</td>\n",
       "    </tr>\n",
       "    <tr>\n",
       "      <th>3</th>\n",
       "      <td>0.491187</td>\n",
       "      <td>0.795140</td>\n",
       "      <td>-0.846733</td>\n",
       "      <td>2.174405</td>\n",
       "      <td>-1.038638</td>\n",
       "      <td>-0.526262</td>\n",
       "      <td>-2.239829</td>\n",
       "      <td>5.055221</td>\n",
       "    </tr>\n",
       "    <tr>\n",
       "      <th>4</th>\n",
       "      <td>-0.790075</td>\n",
       "      <td>0.678079</td>\n",
       "      <td>-0.846733</td>\n",
       "      <td>0.488555</td>\n",
       "      <td>-1.038638</td>\n",
       "      <td>0.070492</td>\n",
       "      <td>0.647569</td>\n",
       "      <td>4.976069</td>\n",
       "    </tr>\n",
       "  </tbody>\n",
       "</table>\n",
       "</div>"
      ],
      "text/plain": [
       "     Cement  Blast Furnace Slag   Fly Ash     Water  Superplasticizer  \\\n",
       "0  2.476712           -0.856472 -0.846733 -0.916319         -0.620147   \n",
       "1  2.476712           -0.856472 -0.846733 -0.916319         -0.620147   \n",
       "2  0.491187            0.795140 -0.846733  2.174405         -1.038638   \n",
       "3  0.491187            0.795140 -0.846733  2.174405         -1.038638   \n",
       "4 -0.790075            0.678079 -0.846733  0.488555         -1.038638   \n",
       "\n",
       "   Coarse Aggregate  Fine Aggregate       Age  \n",
       "0          0.862735       -1.217079 -0.279597  \n",
       "1          1.055651       -1.217079 -0.279597  \n",
       "2         -0.526262       -2.239829  3.551340  \n",
       "3         -0.526262       -2.239829  5.055221  \n",
       "4          0.070492        0.647569  4.976069  "
      ]
     },
     "execution_count": 12,
     "metadata": {},
     "output_type": "execute_result"
    }
   ],
   "source": [
    "predictors_norm = (predictors - predictors.mean()) / predictors.std()\n",
    "predictors_norm.head()"
   ]
  },
  {
   "cell_type": "code",
   "execution_count": 13,
   "id": "73435cba",
   "metadata": {},
   "outputs": [],
   "source": [
    "n_cols = predictors_norm.shape[1] # number of predictors"
   ]
  },
  {
   "cell_type": "markdown",
   "id": "e078ae46",
   "metadata": {},
   "source": [
    "# Import Keras\n",
    "\n"
   ]
  },
  {
   "cell_type": "code",
   "execution_count": 14,
   "id": "14508112",
   "metadata": {},
   "outputs": [],
   "source": [
    "#Keras normally runs on top of a low-level library such as TensorFlow."
   ]
  },
  {
   "cell_type": "code",
   "execution_count": 15,
   "id": "e893ebe5",
   "metadata": {},
   "outputs": [],
   "source": [
    "import keras"
   ]
  },
  {
   "cell_type": "code",
   "execution_count": 16,
   "id": "829bc33b",
   "metadata": {},
   "outputs": [],
   "source": [
    "from keras.models import Sequential\n",
    "from keras.layers import Dense"
   ]
  },
  {
   "cell_type": "markdown",
   "id": "ef5800c5",
   "metadata": {},
   "source": [
    "# Build a Neural Network"
   ]
  },
  {
   "cell_type": "code",
   "execution_count": 17,
   "id": "3c0d9246",
   "metadata": {},
   "outputs": [],
   "source": [
    "#Let's define a function that defines our regression model for us so that\n",
    "# we can conveniently call it to create our model."
   ]
  },
  {
   "cell_type": "code",
   "execution_count": 18,
   "id": "834a39c2",
   "metadata": {},
   "outputs": [],
   "source": [
    "# define regression model\n",
    "def regression_model():\n",
    "    # create model\n",
    "    model = Sequential()\n",
    "    model.add(Dense(50, activation='relu', input_shape=(n_cols,)))\n",
    "    model.add(Dense(50, activation='relu'))\n",
    "    model.add(Dense(1))\n",
    "    \n",
    "    # compile model\n",
    "    model.compile(optimizer='adam', loss='mean_squared_error')\n",
    "    return model"
   ]
  },
  {
   "cell_type": "markdown",
   "id": "b9374452",
   "metadata": {},
   "source": [
    "# Train and Test the Network"
   ]
  },
  {
   "cell_type": "code",
   "execution_count": 19,
   "id": "bbf9cada",
   "metadata": {},
   "outputs": [],
   "source": [
    "#Let's call the function now to create our model."
   ]
  },
  {
   "cell_type": "code",
   "execution_count": 20,
   "id": "bb50989d",
   "metadata": {},
   "outputs": [],
   "source": [
    "# build the model\n",
    "model = regression_model()"
   ]
  },
  {
   "cell_type": "code",
   "execution_count": 21,
   "id": "f7f1abec",
   "metadata": {},
   "outputs": [],
   "source": [
    "#Next, we will train and test the model at the same time using the fit method.\n",
    "# We will leave out 30% of\n",
    "# the data for validation and we will train the model for 100 epochs."
   ]
  },
  {
   "cell_type": "code",
   "execution_count": 22,
   "id": "96b6b9a3",
   "metadata": {},
   "outputs": [
    {
     "name": "stdout",
     "output_type": "stream",
     "text": [
      "Epoch 1/100\n",
      "23/23 - 1s - loss: 1627.8726 - val_loss: 1120.1107 - 767ms/epoch - 33ms/step\n",
      "Epoch 2/100\n",
      "23/23 - 0s - loss: 1479.1064 - val_loss: 969.9448 - 70ms/epoch - 3ms/step\n",
      "Epoch 3/100\n",
      "23/23 - 0s - loss: 1225.2478 - val_loss: 748.2031 - 63ms/epoch - 3ms/step\n",
      "Epoch 4/100\n",
      "23/23 - 0s - loss: 865.9624 - val_loss: 486.5109 - 65ms/epoch - 3ms/step\n",
      "Epoch 5/100\n",
      "23/23 - 0s - loss: 502.7651 - val_loss: 274.6787 - 60ms/epoch - 3ms/step\n",
      "Epoch 6/100\n",
      "23/23 - 0s - loss: 284.6664 - val_loss: 188.4079 - 65ms/epoch - 3ms/step\n",
      "Epoch 7/100\n",
      "23/23 - 0s - loss: 226.3876 - val_loss: 174.5147 - 77ms/epoch - 3ms/step\n",
      "Epoch 8/100\n",
      "23/23 - 0s - loss: 209.5773 - val_loss: 173.0680 - 68ms/epoch - 3ms/step\n",
      "Epoch 9/100\n",
      "23/23 - 0s - loss: 196.3659 - val_loss: 171.6255 - 74ms/epoch - 3ms/step\n",
      "Epoch 10/100\n",
      "23/23 - 0s - loss: 187.7233 - val_loss: 173.0169 - 70ms/epoch - 3ms/step\n",
      "Epoch 11/100\n",
      "23/23 - 0s - loss: 181.4457 - val_loss: 170.9501 - 74ms/epoch - 3ms/step\n",
      "Epoch 12/100\n",
      "23/23 - 0s - loss: 175.3989 - val_loss: 168.9706 - 81ms/epoch - 4ms/step\n",
      "Epoch 13/100\n",
      "23/23 - 0s - loss: 171.4514 - val_loss: 165.4717 - 75ms/epoch - 3ms/step\n",
      "Epoch 14/100\n",
      "23/23 - 0s - loss: 167.3798 - val_loss: 163.5144 - 71ms/epoch - 3ms/step\n",
      "Epoch 15/100\n",
      "23/23 - 0s - loss: 164.1396 - val_loss: 160.4859 - 75ms/epoch - 3ms/step\n",
      "Epoch 16/100\n",
      "23/23 - 0s - loss: 160.6512 - val_loss: 159.8940 - 69ms/epoch - 3ms/step\n",
      "Epoch 17/100\n",
      "23/23 - 0s - loss: 157.6954 - val_loss: 154.9580 - 74ms/epoch - 3ms/step\n",
      "Epoch 18/100\n",
      "23/23 - 0s - loss: 154.8943 - val_loss: 153.5790 - 67ms/epoch - 3ms/step\n",
      "Epoch 19/100\n",
      "23/23 - 0s - loss: 153.6313 - val_loss: 153.3031 - 67ms/epoch - 3ms/step\n",
      "Epoch 20/100\n",
      "23/23 - 0s - loss: 150.6086 - val_loss: 152.2943 - 66ms/epoch - 3ms/step\n",
      "Epoch 21/100\n",
      "23/23 - 0s - loss: 148.2957 - val_loss: 149.2866 - 74ms/epoch - 3ms/step\n",
      "Epoch 22/100\n",
      "23/23 - 0s - loss: 146.5920 - val_loss: 147.8593 - 67ms/epoch - 3ms/step\n",
      "Epoch 23/100\n",
      "23/23 - 0s - loss: 144.2010 - val_loss: 146.6882 - 77ms/epoch - 3ms/step\n",
      "Epoch 24/100\n",
      "23/23 - 0s - loss: 142.5726 - val_loss: 145.7801 - 76ms/epoch - 3ms/step\n",
      "Epoch 25/100\n",
      "23/23 - 0s - loss: 141.0075 - val_loss: 146.9352 - 79ms/epoch - 3ms/step\n",
      "Epoch 26/100\n",
      "23/23 - 0s - loss: 140.2214 - val_loss: 146.7644 - 77ms/epoch - 3ms/step\n",
      "Epoch 27/100\n",
      "23/23 - 0s - loss: 138.7860 - val_loss: 143.7617 - 78ms/epoch - 3ms/step\n",
      "Epoch 28/100\n",
      "23/23 - 0s - loss: 136.9684 - val_loss: 143.8632 - 85ms/epoch - 4ms/step\n",
      "Epoch 29/100\n",
      "23/23 - 0s - loss: 135.1643 - val_loss: 142.7935 - 77ms/epoch - 3ms/step\n",
      "Epoch 30/100\n",
      "23/23 - 0s - loss: 133.7522 - val_loss: 143.1133 - 80ms/epoch - 3ms/step\n",
      "Epoch 31/100\n",
      "23/23 - 0s - loss: 132.2921 - val_loss: 142.6844 - 77ms/epoch - 3ms/step\n",
      "Epoch 32/100\n",
      "23/23 - 0s - loss: 131.0829 - val_loss: 139.4948 - 72ms/epoch - 3ms/step\n",
      "Epoch 33/100\n",
      "23/23 - 0s - loss: 129.9459 - val_loss: 142.0011 - 69ms/epoch - 3ms/step\n",
      "Epoch 34/100\n",
      "23/23 - 0s - loss: 128.1795 - val_loss: 142.3758 - 68ms/epoch - 3ms/step\n",
      "Epoch 35/100\n",
      "23/23 - 0s - loss: 126.8675 - val_loss: 140.9944 - 76ms/epoch - 3ms/step\n",
      "Epoch 36/100\n",
      "23/23 - 0s - loss: 125.4448 - val_loss: 141.2644 - 70ms/epoch - 3ms/step\n",
      "Epoch 37/100\n",
      "23/23 - 0s - loss: 124.4883 - val_loss: 139.4912 - 67ms/epoch - 3ms/step\n",
      "Epoch 38/100\n",
      "23/23 - 0s - loss: 123.6685 - val_loss: 138.4282 - 76ms/epoch - 3ms/step\n",
      "Epoch 39/100\n",
      "23/23 - 0s - loss: 121.9737 - val_loss: 140.3812 - 71ms/epoch - 3ms/step\n",
      "Epoch 40/100\n",
      "23/23 - 0s - loss: 120.2603 - val_loss: 137.8889 - 77ms/epoch - 3ms/step\n",
      "Epoch 41/100\n",
      "23/23 - 0s - loss: 119.3247 - val_loss: 134.8263 - 71ms/epoch - 3ms/step\n",
      "Epoch 42/100\n",
      "23/23 - 0s - loss: 117.2068 - val_loss: 136.6996 - 72ms/epoch - 3ms/step\n",
      "Epoch 43/100\n",
      "23/23 - 0s - loss: 116.0406 - val_loss: 134.2584 - 66ms/epoch - 3ms/step\n",
      "Epoch 44/100\n",
      "23/23 - 0s - loss: 115.6189 - val_loss: 138.2085 - 70ms/epoch - 3ms/step\n",
      "Epoch 45/100\n",
      "23/23 - 0s - loss: 113.3011 - val_loss: 135.2197 - 80ms/epoch - 3ms/step\n",
      "Epoch 46/100\n",
      "23/23 - 0s - loss: 111.0136 - val_loss: 134.6845 - 86ms/epoch - 4ms/step\n",
      "Epoch 47/100\n",
      "23/23 - 0s - loss: 109.1395 - val_loss: 133.8727 - 73ms/epoch - 3ms/step\n",
      "Epoch 48/100\n",
      "23/23 - 0s - loss: 107.8467 - val_loss: 134.3521 - 66ms/epoch - 3ms/step\n",
      "Epoch 49/100\n",
      "23/23 - 0s - loss: 105.5974 - val_loss: 132.1655 - 69ms/epoch - 3ms/step\n",
      "Epoch 50/100\n",
      "23/23 - 0s - loss: 103.9536 - val_loss: 134.4736 - 66ms/epoch - 3ms/step\n",
      "Epoch 51/100\n",
      "23/23 - 0s - loss: 101.1331 - val_loss: 129.6906 - 73ms/epoch - 3ms/step\n",
      "Epoch 52/100\n",
      "23/23 - 0s - loss: 98.9986 - val_loss: 131.6794 - 68ms/epoch - 3ms/step\n",
      "Epoch 53/100\n",
      "23/23 - 0s - loss: 96.8184 - val_loss: 130.3750 - 66ms/epoch - 3ms/step\n",
      "Epoch 54/100\n",
      "23/23 - 0s - loss: 94.5849 - val_loss: 129.6668 - 75ms/epoch - 3ms/step\n",
      "Epoch 55/100\n",
      "23/23 - 0s - loss: 92.3709 - val_loss: 122.6145 - 74ms/epoch - 3ms/step\n",
      "Epoch 56/100\n",
      "23/23 - 0s - loss: 90.9621 - val_loss: 122.3988 - 69ms/epoch - 3ms/step\n",
      "Epoch 57/100\n",
      "23/23 - 0s - loss: 88.0763 - val_loss: 125.6743 - 69ms/epoch - 3ms/step\n",
      "Epoch 58/100\n",
      "23/23 - 0s - loss: 86.0981 - val_loss: 120.6412 - 71ms/epoch - 3ms/step\n",
      "Epoch 59/100\n",
      "23/23 - 0s - loss: 83.6293 - val_loss: 118.8624 - 68ms/epoch - 3ms/step\n",
      "Epoch 60/100\n",
      "23/23 - 0s - loss: 81.0732 - val_loss: 119.3669 - 67ms/epoch - 3ms/step\n",
      "Epoch 61/100\n",
      "23/23 - 0s - loss: 78.8521 - val_loss: 118.4892 - 68ms/epoch - 3ms/step\n",
      "Epoch 62/100\n",
      "23/23 - 0s - loss: 77.2979 - val_loss: 116.4285 - 64ms/epoch - 3ms/step\n",
      "Epoch 63/100\n",
      "23/23 - 0s - loss: 75.1356 - val_loss: 119.8601 - 66ms/epoch - 3ms/step\n",
      "Epoch 64/100\n",
      "23/23 - 0s - loss: 72.7100 - val_loss: 116.9886 - 70ms/epoch - 3ms/step\n",
      "Epoch 65/100\n",
      "23/23 - 0s - loss: 71.0786 - val_loss: 114.0680 - 67ms/epoch - 3ms/step\n",
      "Epoch 66/100\n",
      "23/23 - 0s - loss: 69.4710 - val_loss: 117.6852 - 73ms/epoch - 3ms/step\n",
      "Epoch 67/100\n",
      "23/23 - 0s - loss: 67.3359 - val_loss: 115.1879 - 69ms/epoch - 3ms/step\n",
      "Epoch 68/100\n",
      "23/23 - 0s - loss: 65.5369 - val_loss: 111.8350 - 69ms/epoch - 3ms/step\n",
      "Epoch 69/100\n",
      "23/23 - 0s - loss: 64.1111 - val_loss: 112.9340 - 69ms/epoch - 3ms/step\n",
      "Epoch 70/100\n",
      "23/23 - 0s - loss: 62.3274 - val_loss: 117.6790 - 69ms/epoch - 3ms/step\n",
      "Epoch 71/100\n",
      "23/23 - 0s - loss: 61.0485 - val_loss: 111.6446 - 72ms/epoch - 3ms/step\n",
      "Epoch 72/100\n",
      "23/23 - 0s - loss: 59.3872 - val_loss: 107.9050 - 67ms/epoch - 3ms/step\n",
      "Epoch 73/100\n",
      "23/23 - 0s - loss: 58.1038 - val_loss: 108.4325 - 63ms/epoch - 3ms/step\n",
      "Epoch 74/100\n",
      "23/23 - 0s - loss: 57.1362 - val_loss: 104.6896 - 59ms/epoch - 3ms/step\n",
      "Epoch 75/100\n",
      "23/23 - 0s - loss: 55.0049 - val_loss: 117.8015 - 61ms/epoch - 3ms/step\n",
      "Epoch 76/100\n",
      "23/23 - 0s - loss: 53.9093 - val_loss: 110.0430 - 59ms/epoch - 3ms/step\n",
      "Epoch 77/100\n",
      "23/23 - 0s - loss: 52.4404 - val_loss: 113.5360 - 62ms/epoch - 3ms/step\n",
      "Epoch 78/100\n",
      "23/23 - 0s - loss: 51.2084 - val_loss: 109.7960 - 60ms/epoch - 3ms/step\n",
      "Epoch 79/100\n",
      "23/23 - 0s - loss: 50.7444 - val_loss: 108.1711 - 58ms/epoch - 3ms/step\n",
      "Epoch 80/100\n",
      "23/23 - 0s - loss: 49.2097 - val_loss: 111.3337 - 62ms/epoch - 3ms/step\n",
      "Epoch 81/100\n",
      "23/23 - 0s - loss: 48.1001 - val_loss: 106.3719 - 62ms/epoch - 3ms/step\n",
      "Epoch 82/100\n",
      "23/23 - 0s - loss: 47.1048 - val_loss: 112.9196 - 65ms/epoch - 3ms/step\n",
      "Epoch 83/100\n",
      "23/23 - 0s - loss: 45.7314 - val_loss: 112.0367 - 63ms/epoch - 3ms/step\n",
      "Epoch 84/100\n",
      "23/23 - 0s - loss: 45.1981 - val_loss: 113.7351 - 59ms/epoch - 3ms/step\n",
      "Epoch 85/100\n",
      "23/23 - 0s - loss: 44.1907 - val_loss: 116.3148 - 58ms/epoch - 3ms/step\n",
      "Epoch 86/100\n",
      "23/23 - 0s - loss: 43.3364 - val_loss: 113.2073 - 60ms/epoch - 3ms/step\n",
      "Epoch 87/100\n",
      "23/23 - 0s - loss: 42.7155 - val_loss: 119.6860 - 60ms/epoch - 3ms/step\n",
      "Epoch 88/100\n",
      "23/23 - 0s - loss: 42.2467 - val_loss: 128.1164 - 57ms/epoch - 2ms/step\n",
      "Epoch 89/100\n",
      "23/23 - 0s - loss: 42.3430 - val_loss: 112.0268 - 61ms/epoch - 3ms/step\n",
      "Epoch 90/100\n",
      "23/23 - 0s - loss: 40.3577 - val_loss: 123.6271 - 64ms/epoch - 3ms/step\n",
      "Epoch 91/100\n",
      "23/23 - 0s - loss: 39.6115 - val_loss: 122.1621 - 65ms/epoch - 3ms/step\n",
      "Epoch 92/100\n",
      "23/23 - 0s - loss: 39.6214 - val_loss: 120.1673 - 65ms/epoch - 3ms/step\n",
      "Epoch 93/100\n",
      "23/23 - 0s - loss: 38.9149 - val_loss: 116.1995 - 60ms/epoch - 3ms/step\n",
      "Epoch 94/100\n",
      "23/23 - 0s - loss: 38.0484 - val_loss: 138.3742 - 61ms/epoch - 3ms/step\n",
      "Epoch 95/100\n",
      "23/23 - 0s - loss: 37.1276 - val_loss: 126.0042 - 57ms/epoch - 2ms/step\n",
      "Epoch 96/100\n",
      "23/23 - 0s - loss: 36.8937 - val_loss: 136.6045 - 58ms/epoch - 3ms/step\n"
     ]
    },
    {
     "name": "stdout",
     "output_type": "stream",
     "text": [
      "Epoch 97/100\n",
      "23/23 - 0s - loss: 36.8143 - val_loss: 124.4123 - 63ms/epoch - 3ms/step\n",
      "Epoch 98/100\n",
      "23/23 - 0s - loss: 35.8545 - val_loss: 139.2623 - 57ms/epoch - 2ms/step\n",
      "Epoch 99/100\n",
      "23/23 - 0s - loss: 35.8363 - val_loss: 130.6833 - 57ms/epoch - 2ms/step\n",
      "Epoch 100/100\n",
      "23/23 - 0s - loss: 34.8547 - val_loss: 137.1890 - 59ms/epoch - 3ms/step\n"
     ]
    },
    {
     "data": {
      "text/plain": [
       "<keras.callbacks.History at 0x251fd923190>"
      ]
     },
     "execution_count": 22,
     "metadata": {},
     "output_type": "execute_result"
    }
   ],
   "source": [
    "# fit the model\n",
    "model.fit(predictors_norm, target, validation_split=0.3, epochs=100, verbose=2)"
   ]
  },
  {
   "cell_type": "markdown",
   "id": "86b764b5",
   "metadata": {},
   "source": [
    "# Classification Models with Keras"
   ]
  },
  {
   "cell_type": "code",
   "execution_count": 1,
   "id": "69cc0359",
   "metadata": {},
   "outputs": [],
   "source": [
    "import keras\n",
    "\n",
    "from keras.models import Sequential\n",
    "from keras.layers import Dense\n",
    "from keras.utils import to_categorical"
   ]
  },
  {
   "cell_type": "code",
   "execution_count": 2,
   "id": "73d49379",
   "metadata": {},
   "outputs": [],
   "source": [
    "import matplotlib.pyplot as plt"
   ]
  },
  {
   "cell_type": "code",
   "execution_count": 3,
   "id": "2217e8a0",
   "metadata": {},
   "outputs": [],
   "source": [
    "# import the data\n",
    "from keras.datasets import mnist\n",
    "\n",
    "# read the data\n",
    "(X_train, y_train), (X_test, y_test) = mnist.load_data()"
   ]
  },
  {
   "cell_type": "code",
   "execution_count": 4,
   "id": "8967f111",
   "metadata": {},
   "outputs": [
    {
     "data": {
      "text/plain": [
       "(60000, 28, 28)"
      ]
     },
     "execution_count": 4,
     "metadata": {},
     "output_type": "execute_result"
    }
   ],
   "source": [
    "X_train.shape"
   ]
  },
  {
   "cell_type": "code",
   "execution_count": 5,
   "id": "266fe608",
   "metadata": {},
   "outputs": [
    {
     "data": {
      "text/plain": [
       "<matplotlib.image.AxesImage at 0x216b12061d0>"
      ]
     },
     "execution_count": 5,
     "metadata": {},
     "output_type": "execute_result"
    },
    {
     "data": {
      "image/png": "[encoded data removed]",
      "text/plain": [
       "<Figure size 640x480 with 1 Axes>"
      ]
     },
     "metadata": {},
     "output_type": "display_data"
    }
   ],
   "source": [
    "plt.imshow(X_train[0])"
   ]
  },
  {
   "cell_type": "code",
   "execution_count": 6,
   "id": "5176653a",
   "metadata": {},
   "outputs": [],
   "source": [
    "# flatten images into one-dimensional vector\n",
    "\n",
    "num_pixels = X_train.shape[1] * X_train.shape[2] # find size of one-dimensional vector\n",
    "\n",
    "X_train = X_train.reshape(X_train.shape[0], num_pixels).astype('float32') # flatten training images\n",
    "X_test = X_test.reshape(X_test.shape[0], num_pixels).astype('float32') # flatten test images"
   ]
  },
  {
   "cell_type": "code",
   "execution_count": 7,
   "id": "06a61e3e",
   "metadata": {},
   "outputs": [],
   "source": [
    "# normalize inputs from 0-255 to 0-1\n",
    "X_train = X_train / 255\n",
    "X_test = X_test / 255"
   ]
  },
  {
   "cell_type": "code",
   "execution_count": 8,
   "id": "b50d4869",
   "metadata": {},
   "outputs": [],
   "source": [
    "#Finally, before we start building our model,\n",
    "# remember that for classification we need to divide our target \n",
    "#variable into categories. We use the to_categorical function \n",
    "#from the Keras Utilities package."
   ]
  },
  {
   "cell_type": "code",
   "execution_count": 9,
   "id": "848c1c41",
   "metadata": {},
   "outputs": [
    {
     "name": "stdout",
     "output_type": "stream",
     "text": [
      "10\n"
     ]
    }
   ],
   "source": [
    "# one hot encode outputs\n",
    "y_train = to_categorical(y_train)\n",
    "y_test = to_categorical(y_test)\n",
    "\n",
    "num_classes = y_test.shape[1]\n",
    "print(num_classes)"
   ]
  },
  {
   "cell_type": "markdown",
   "id": "00884e50",
   "metadata": {},
   "source": [
    "# Build a Neural Network"
   ]
  },
  {
   "cell_type": "code",
   "execution_count": 10,
   "id": "f3c7460f",
   "metadata": {},
   "outputs": [],
   "source": [
    "# define classification model\n",
    "def classification_model():\n",
    "    # create model\n",
    "    model = Sequential()\n",
    "    model.add(Dense(num_pixels, activation='relu', input_shape=(num_pixels,)))\n",
    "    model.add(Dense(100, activation='relu'))\n",
    "    model.add(Dense(num_classes, activation='softmax'))\n",
    "    \n",
    "    \n",
    "    # compile model\n",
    "    model.compile(optimizer='adam', loss='categorical_crossentropy', metrics=['accuracy'])\n",
    "    return model"
   ]
  },
  {
   "cell_type": "markdown",
   "id": "5ba2d270",
   "metadata": {},
   "source": [
    "# Train and Test the Network"
   ]
  },
  {
   "cell_type": "code",
   "execution_count": 4,
   "id": "158d3391",
   "metadata": {},
   "outputs": [
    {
     "ename": "NameError",
     "evalue": "name 'classification_model' is not defined",
     "output_type": "error",
     "traceback": [
      "\u001b[1;31m---------------------------------------------------------------------------\u001b[0m",
      "\u001b[1;31mNameError\u001b[0m                                 Traceback (most recent call last)",
      "Cell \u001b[1;32mIn[4], line 2\u001b[0m\n\u001b[0;32m      1\u001b[0m \u001b[38;5;66;03m# build the model\u001b[39;00m\n\u001b[1;32m----> 2\u001b[0m model \u001b[38;5;241m=\u001b[39m \u001b[43mclassification_model\u001b[49m()\n\u001b[0;32m      4\u001b[0m \u001b[38;5;66;03m# fit the model\u001b[39;00m\n\u001b[0;32m      5\u001b[0m model\u001b[38;5;241m.\u001b[39mfit(X_train, y_train, validation_data\u001b[38;5;241m=\u001b[39m(X_test, y_test), epochs\u001b[38;5;241m=\u001b[39m\u001b[38;5;241m10\u001b[39m, verbose\u001b[38;5;241m=\u001b[39m\u001b[38;5;241m2\u001b[39m)\n",
      "\u001b[1;31mNameError\u001b[0m: name 'classification_model' is not defined"
     ]
    }
   ],
   "source": [
    "# build the model\n",
    "model = classification_model()\n",
    "\n",
    "# fit the model\n",
    "model.fit(X_train, y_train, validation_data=(X_test, y_test), epochs=10, verbose=2)\n",
    "\n",
    "# evaluate the model\n",
    "scores = model.evaluate(X_test, y_test, verbose=0)"
   ]
  },
  {
   "cell_type": "code",
   "execution_count": 3,
   "id": "3c540638",
   "metadata": {},
   "outputs": [
    {
     "ename": "NameError",
     "evalue": "name 'model' is not defined",
     "output_type": "error",
     "traceback": [
      "\u001b[1;31m---------------------------------------------------------------------------\u001b[0m",
      "\u001b[1;31mNameError\u001b[0m                                 Traceback (most recent call last)",
      "Cell \u001b[1;32mIn[3], line 1\u001b[0m\n\u001b[1;32m----> 1\u001b[0m \u001b[43mmodel\u001b[49m\u001b[38;5;241m.\u001b[39msave(\u001b[38;5;124m'\u001b[39m\u001b[38;5;124mclassification_model.h5\u001b[39m\u001b[38;5;124m'\u001b[39m)\n",
      "\u001b[1;31mNameError\u001b[0m: name 'model' is not defined"
     ]
    }
   ],
   "source": [
    "model.save('classification_model.h5')    "
   ]
  },
  {
   "cell_type": "code",
   "execution_count": null,
   "id": "1b019b23",
   "metadata": {},
   "outputs": [],
   "source": []
  }
 ],
 "metadata": {
  "kernelspec": {
   "display_name": "Python 3 (ipykernel)",
   "language": "python",
   "name": "python3"
  },
  "language_info": {
   "codemirror_mode": {
    "name": "ipython",
    "version": 3
   },
   "file_extension": ".py",
   "mimetype": "text/x-python",
   "name": "python",
   "nbconvert_exporter": "python",
   "pygments_lexer": "ipython3",
   "version": "3.10.9"
  }
 },
 "nbformat": 4,
 "nbformat_minor": 5
}
