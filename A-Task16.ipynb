{
 "cells": [
  {
   "cell_type": "markdown",
   "id": "b26ded2f",
   "metadata": {},
   "source": [
    "# 🔴 Task 16\n",
    "\n",
    "Tooics: Combining and Merging Datasets, Reshaping Data\n"
   ]
  },
  {
   "cell_type": "code",
   "execution_count": 1,
   "id": "24a44fa5",
   "metadata": {},
   "outputs": [],
   "source": [
    "import numpy as np\n",
    "import pandas as pd"
   ]
  },
  {
   "cell_type": "code",
   "execution_count": 2,
   "id": "a62b7a07",
   "metadata": {},
   "outputs": [],
   "source": [
    "#1st dataset\n",
    "df1 = pd.DataFrame({\n",
    "    'id': [1, 2, 3, 4, 5],\n",
    "    'name': ['John', 'Emily', 'Michael', 'Amy', 'David'],\n",
    "    'age': [25, 30, 27, 22, 35]\n",
    "})"
   ]
  },
  {
   "cell_type": "code",
   "execution_count": null,
   "id": "88e3f76d",
   "metadata": {},
   "outputs": [],
   "source": []
  }
 ],
 "metadata": {
  "kernelspec": {
   "display_name": "Python 3 (ipykernel)",
   "language": "python",
   "name": "python3"
  },
  "language_info": {
   "codemirror_mode": {
    "name": "ipython",
    "version": 3
   },
   "file_extension": ".py",
   "mimetype": "text/x-python",
   "name": "python",
   "nbconvert_exporter": "python",
   "pygments_lexer": "ipython3",
   "version": "3.10.9"
  }
 },
 "nbformat": 4,
 "nbformat_minor": 5
}
