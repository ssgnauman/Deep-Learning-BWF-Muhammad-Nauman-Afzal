{
 "cells": [
  {
   "cell_type": "markdown",
   "id": "5733d67b",
   "metadata": {},
   "source": [
    "# 🔴 Task 16\n",
    "\n",
    "Topics: Combining and Merging Datasets, Reshaping Data\n"
   ]
  },
  {
   "cell_type": "code",
   "execution_count": 1,
   "id": "a19b3ced",
   "metadata": {},
   "outputs": [],
   "source": [
    "import numpy as np\n",
    "import pandas as pd"
   ]
  },
  {
   "cell_type": "code",
   "execution_count": 2,
   "id": "3d1393eb",
   "metadata": {},
   "outputs": [],
   "source": [
    "#1st dataset\n",
    "df1 = pd.DataFrame({\n",
    "    'id': [1, 2, 3, 4, 5],\n",
    "    'name': ['John', 'Emily', 'Michael', 'Amy', 'David'],\n",
    "    'age': [25, 30, 27, 22, 35]\n",
    "})"
   ]
  },
  {
   "cell_type": "code",
   "execution_count": 3,
   "id": "3fd47067",
   "metadata": {},
   "outputs": [],
   "source": [
    "#2nd datasets\n",
    "df2 = pd.DataFrame({\n",
    "    'id': [1, 2, 3, 4, 5],\n",
    "    'country': ['USA', 'Canada', 'Germany', 'France', 'Japan'],\n",
    "    'salary': [50000, 60000, 55000, 45000, 70000]\n",
    "})"
   ]
  },
  {
   "cell_type": "code",
   "execution_count": 4,
   "id": "d3c558e9",
   "metadata": {},
   "outputs": [],
   "source": [
    "#3rd dataset\n",
    "df3 = pd.DataFrame({\n",
    "    'id': [1, 2, 3, 4, 5],\n",
    "    'gender': ['Male', 'Female', 'Male', 'Female', 'Male'],\n",
    "    'occupation': ['Engineer', 'Doctor', 'Teacher', 'Designer', 'Programmer']\n",
    "})"
   ]
  },
  {
   "cell_type": "code",
   "execution_count": 5,
   "id": "f99aef17",
   "metadata": {},
   "outputs": [
    {
     "name": "stdout",
     "output_type": "stream",
     "text": [
      "   id     name  age  country  salary\n",
      "0   1     John   25      USA   50000\n",
      "1   2    Emily   30   Canada   60000\n",
      "2   3  Michael   27  Germany   55000\n",
      "3   4      Amy   22   France   45000\n",
      "4   5    David   35    Japan   70000\n"
     ]
    }
   ],
   "source": [
    "# Merge the datasets based on the 'id' column\n",
    "merged_df = pd.merge(df1, df2, on='id')\n",
    "\n",
    "# Print the merged dataset\n",
    "print(merged_df)"
   ]
  },
  {
   "cell_type": "code",
   "execution_count": 6,
   "id": "c26d96cd",
   "metadata": {},
   "outputs": [],
   "source": [
    "df_revenue = pd.DataFrame({\n",
    "    'date': ['2022-01-01', '2022-01-01', '2022-01-01', '2022-01-02', '2022-01-02', '2022-01-02', '2022-01-03', '2022-01-03', '2022-01-03'],\n",
    "    'product': ['Product A', 'Product B', 'Product C', 'Product A', 'Product B', 'Product C', 'Product A', 'Product B', 'Product C'],\n",
    "    'revenue': [10000, 15000, 20000, 8000, 12000, 18000, 11000, 13000, 19000]\n",
    "})"
   ]
  },
  {
   "cell_type": "code",
   "execution_count": 7,
   "id": "4f571cbb",
   "metadata": {},
   "outputs": [
    {
     "name": "stdout",
     "output_type": "stream",
     "text": [
      "product     Product A  Product B  Product C\n",
      "date                                       \n",
      "2022-01-01      10000      15000      20000\n",
      "2022-01-02       8000      12000      18000\n",
      "2022-01-03      11000      13000      19000\n"
     ]
    }
   ],
   "source": [
    "# Reshape the dataset\n",
    "reshaped_df = df_revenue.pivot(index='date', columns='product', values='revenue')\n",
    "\n",
    "# Print the reshaped dataset\n",
    "print(reshaped_df)"
   ]
  },
  {
   "cell_type": "code",
   "execution_count": 8,
   "id": "07c9a092",
   "metadata": {},
   "outputs": [
    {
     "name": "stdout",
     "output_type": "stream",
     "text": [
      "   id     name  age  country  salary  gender  occupation\n",
      "0   1     John   25      USA   50000    Male    Engineer\n",
      "1   2    Emily   30   Canada   60000  Female      Doctor\n",
      "2   3  Michael   27  Germany   55000    Male     Teacher\n",
      "3   4      Amy   22   France   45000  Female    Designer\n",
      "4   5    David   35    Japan   70000    Male  Programmer\n"
     ]
    }
   ],
   "source": [
    "# Merge the datasets based on the 'id' column\n",
    "merged_df = pd.merge(df1, df2, on='id')\n",
    "merged_df = pd.merge(merged_df, df3, on='id')\n",
    "\n",
    "# Print the merged dataset\n",
    "print(merged_df)"
   ]
  },
  {
   "cell_type": "code",
   "execution_count": 9,
   "id": "62d8e08b",
   "metadata": {},
   "outputs": [],
   "source": [
    "# -------------------------------------END"
   ]
  },
  {
   "cell_type": "code",
   "execution_count": null,
   "id": "7c047fed",
   "metadata": {},
   "outputs": [],
   "source": []
  }
 ],
 "metadata": {
  "kernelspec": {
   "display_name": "Python 3 (ipykernel)",
   "language": "python",
   "name": "python3"
  },
  "language_info": {
   "codemirror_mode": {
    "name": "ipython",
    "version": 3
   },
   "file_extension": ".py",
   "mimetype": "text/x-python",
   "name": "python",
   "nbconvert_exporter": "python",
   "pygments_lexer": "ipython3",
   "version": "3.10.9"
  }
 },
 "nbformat": 4,
 "nbformat_minor": 5
}
